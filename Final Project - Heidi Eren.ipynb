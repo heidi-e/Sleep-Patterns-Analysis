{
 "cells": [
  {
   "cell_type": "markdown",
   "id": "0d4d1c4c",
   "metadata": {},
   "source": [
    "# Analyzing Sleep Patterns Across Different Age Groups"
   ]
  },
  {
   "cell_type": "markdown",
   "id": "7b5ee1a7",
   "metadata": {},
   "source": [
    "**Heidi Eren**\n",
    "*eren.h@northeastern.edu*"
   ]
  },
  {
   "cell_type": "markdown",
   "id": "331c95fd",
   "metadata": {},
   "source": [
    "**DS 2001: Health Programming Practicum - Spring 2022**\n",
    "\n",
    "Source: The data used in this project is from the National Sleep Foundation (2011) and the Stanford Technology Analytics and Genomics in Sleep (2019) and was accessed on 30th of March 2022 from the links below. \n",
    "\n",
    "https://www.sleepfoundation.org/professionals/sleep-americar-polls/2011-poll-technology-and-sleep\n",
    "\n",
    "https://sleepdata.org/datasets/stages\n"
   ]
  },
  {
   "cell_type": "markdown",
   "id": "181d3329",
   "metadata": {},
   "source": [
    "**Abstract**\n",
    "\n",
    "Sleep is an important aspect of our everyday lives. It is essential for all, especially adolescents, where a variety of vital life processes occur. However, with recent technological advancements, our sleep patterns may have drastically changed in response to the increased exposure of devices. To examine these changes, this project aimed to convey the trends in sleep patterns for different age groups across a decade. It could also reveal whether recent technology has impacted the sleep quality of younger generations. Results indicate that the different age groups are equally prone to the disruptions toward their circadian rhythms. Observing the patterns through correlational analysis, adolescents and adults alike can benefit from learning the effects of electronic devices and screens prior to bed and better enhance sleep conditions for the long term."
   ]
  },
  {
   "cell_type": "markdown",
   "id": "087dcc65",
   "metadata": {},
   "source": [
    "**Background** \n",
    "\n",
    "While sleep affects a variety of brain functions, it is also influenced by a variety of internal and external conditions. From memory consolidation, homeostasis, and immunity, studies have shown that sleep helps with brain development [5]. However, this depends on the sleep quality and quantity based on biological, environmental, and societal factors. Through the normal sleep-wake cycle, two brain processes—homeostatic drive (the need for sleep) and circadian rhythm (sleep-wake rhythm)—shape the sleep patterns people exhibit on a daily basis. The body’s sleep regulation affects physical exhaustion and subsequent sleep patterns. \n",
    "\n",
    "Environmental factors such as light and technology can have adverse implications on sleep by suppressing melatonin. With the advent of new technology in the twenty-first century, technological devices have become the gateway to connectivity and communication across the world among adolescences. Its popularity and accessibility make it easy and convenient for the newer, tech-savvy generation to utilize, integrating it into their daily tasks from morning to night. Especially as it is widely used and accessible in the home environment, it has become very common for adolescents to use technology before bed, despite the health implications it can have. According to a 2014 study, 76% of adolescents reported using a cell phone prior to bed [3]. This number will continue to rise as more enhanced technologies and interactive devices reach the market.\n",
    "\n",
    "Numerous studies have demonstrated the effects that technology use can have on sleep patterns. Often times, adolescents have reported “shorter sleep duration, increased daytime sleepiness, worse academic performances” [5] after using their electronic devices the night before. These effects can have further implications, as insufficient sleep has been associated with decreased productivity, energy, and academic performance [4] and sometimes diabetes and cardiovascular problems [2]. As a result, more people are relying on naps and coffee, disrupting their circadian rhythm. Prolonged exposure to blue light from electronic screens significantly “suppresses the secretion of melatonin” [1] as well. While these health concerns have been analyzed and linked to sleep patterns in previous studies, it is important to consider *newer* forms of technology use and its effects on sleep among different age groups, especially since technology has continued to change over the last decade."
   ]
  },
  {
   "cell_type": "markdown",
   "id": "29217fee",
   "metadata": {},
   "source": [
    "**Data**\n",
    "\n",
    "The data includes survey data conducted through the National Sleep Foundation in 2011. With 1,508 surveys conducted, of which 750 are telephone interviews and 758 are web surveys, the Questionnaire asks specific details regarding sleep habits and technology use among respondents ages 13-64. Some questions include the specific times they wake up and go to sleep on the weekday and weekend, number of naps per day and its duration, caffeination daily consumption, assessing sleep patterns as “adequate” or “inadequate”, and cell phone or laptop usage one hour before bed. The dataset is extensive and thorough especially with the large number of respondents’ information to analyze from. The NSF data collection was intended to assess the variety of ways technology disrupts sleep.\n",
    "\n",
    "The Stanford Technology Analytics and Genomics in Sleep (STAGES) compiled an extensive data collection by 2019 with 1,500 adults and adolescent patients from six medical centers across the US. The database includes an online sleep symptoms questionnaire called the Alliance Sleep Questionnaire that assesses different forms of sleep quality and quantity as well as medical history questions. Examples of the questions include self-reported chances of dozing, tiredness, muscle weakness, sleep disruptions and difficulties such as nightmares, bed times on the weekday versus weekend, and last use of technology before bed. The STAGES dataset was intended to examine behavior and lifestyle conditions that medical devices and treatment cannot determine.\n",
    "\n",
    "Each of these datasets proves to be valuable in assessing the sleep patterns and conditions of people at different time periods. By comparing the trends between the responses, my project could analyze the ways in which our sleep patterns have changed over time, possibly due to the greater exposure of technology.\n",
    "\n",
    "More specifically, my project aims to address the following questions:\n",
    "\n",
    "**What is the relationship between age and the likelihood of dozing off in everyday activities?** This is known as the Epworth Sleepiness Scale based on an 8-item questionnaire that ranks the likelihood of dozing off, where each item scales from 0--no chance of dozing off to 3--high chance of dozing off. \n",
    "\n",
    "**What is the relationship between age and the amount of sleep obtained per week night?** The sleep duration is self-reported and assesses the total amount of sleep on work/school nights.\n",
    "\n",
    "**What is the relationship between age and the disrupted sleep duration on a week night?** The sleep disruption is self-reported and assesses the total amount of time awake (awoken from sleep) on work/school nights. \n",
    "\n",
    "The age groups are organized by generation:\n",
    "\n",
    "Gen Z: 13-18 year olds\n",
    "\n",
    "Gen Y: 19-29 year olds\n",
    "\n",
    "Gen X: 30-45 year olds\n",
    "\n",
    "Baby Boomers: 46-64 year olds\n",
    "\n",
    "*Note that the youngest generation (Gen Alpha: <12 year olds) will not be classified as an age group since they were not born (or were just born) for the NSF survey and too young to be able to participate in the STAGES survey.*"
   ]
  },
  {
   "cell_type": "markdown",
   "id": "218e2800",
   "metadata": {},
   "source": [
    "**Importing Libraries and Reading Data**\n",
    "\n",
    "The required libraries were imported and the files were read accordingly. "
   ]
  },
  {
   "cell_type": "code",
   "execution_count": 42,
   "id": "752e1100",
   "metadata": {},
   "outputs": [],
   "source": [
    "#import packages \n",
    "import csv\n",
    "import numpy as np\n",
    "import matplotlib.pyplot as plt"
   ]
  },
  {
   "cell_type": "code",
   "execution_count": 43,
   "id": "b0afa027",
   "metadata": {},
   "outputs": [],
   "source": [
    "#load data\n",
    "STAGES_FILE = \"stages_data.csv\"\n",
    "POLL_FILE = \"national_sleep_foundation_poll.csv\""
   ]
  },
  {
   "cell_type": "code",
   "execution_count": 44,
   "id": "44e88f87",
   "metadata": {},
   "outputs": [],
   "source": [
    "#read data\n",
    "def read_csv(filename):\n",
    "    ''' Function: read_csv\n",
    "        parameter: filename, a string\n",
    "        Returns: 2d list of strings, the contents of the file\n",
    "    '''\n",
    "    data = []\n",
    "    with open(filename, \"r\") as infile:\n",
    "        csvfile = csv.reader(infile, delimiter = \",\")\n",
    "        for row in csvfile:\n",
    "                data.append(row)\n",
    "    data = data[1:]\n",
    "    \n",
    "    return data"
   ]
  },
  {
   "cell_type": "markdown",
   "id": "359bb8c6",
   "metadata": {},
   "source": [
    "**Data Cleaning and Organizing**\n",
    "\n",
    "Because of the voluntary nature of surveys, some respondants chose \"don't know\" or \"refused to answer\" or simply left their responses blank for the questions. To ensure that this data was excluded from the analysis, the data was cleaned and appended to a new list of lists. "
   ]
  },
  {
   "cell_type": "code",
   "execution_count": 45,
   "id": "9626a8e4",
   "metadata": {},
   "outputs": [],
   "source": [
    "#clean data for 2011 poll dataset\n",
    "def cleaned_poll(all_data, index):\n",
    "    ''' Function: complete_data\n",
    "        Parameter: 2d list of strings (the contents of the file) and index (int) for y_variable column position\n",
    "        Return: a new list of strings, excluding empty strings and \"refused\" or \"don't know\" responses\n",
    "    '''\n",
    "    no_response = [\"96, \"\"98\", \"99\", \"998\", \"999\"]\n",
    "    \n",
    "    complete_data = []\n",
    "    for row in all_data:\n",
    "        if row[index] != \" \" and row[index] not in no_response:\n",
    "            complete_data.append(row)\n",
    "            \n",
    "    return complete_data"
   ]
  },
  {
   "cell_type": "code",
   "execution_count": 46,
   "id": "5a43fa96",
   "metadata": {},
   "outputs": [],
   "source": [
    "#clean data for stages dataset\n",
    "def cleaned(all_data, index):\n",
    "    ''' Function: complete_data\n",
    "        Parameter: 2d list of strings (the contents of the file) and index (int) for y_variable column position\n",
    "        Return: a new list of strings, excluding empty strings\n",
    "    '''\n",
    "    \n",
    "    complete_data = []\n",
    "    for row in all_data:\n",
    "        if row[index] != \" \":\n",
    "            complete_data.append(row)\n",
    "            \n",
    "    return complete_data"
   ]
  },
  {
   "cell_type": "markdown",
   "id": "712bc357",
   "metadata": {},
   "source": [
    "**Functions**\n",
    "\n",
    "The following functions organize the lists of data into lists that only contain the two variables that will be compared. The average of each age group was calculated based on the lists only containing data from that specific age group."
   ]
  },
  {
   "cell_type": "code",
   "execution_count": 47,
   "id": "cdf1d2f4",
   "metadata": {},
   "outputs": [],
   "source": [
    "# isolate the ages column and y_variable column from the dataset\n",
    "def get_simple_data(some_data, age_index, score_index):\n",
    "    ''' Function: get_simple_data\n",
    "        Parameter: some_data, 2 integers (for column positions)\n",
    "        Returns: 1 new list that only includes [age, score]\n",
    "    '''\n",
    "        \n",
    "    no_response = [\"96\", \"98\", \"99\", \"998\", \"999\"]\n",
    "    simple_data = []\n",
    "    \n",
    "    for rowlist in some_data:\n",
    "        if rowlist[age_index]!='' and rowlist[score_index]!='' and rowlist[score_index] not in no_response:\n",
    "            simple_data.append([float(rowlist[age_index]),float(rowlist[score_index])])\n",
    "    \n",
    "    return simple_data"
   ]
  },
  {
   "cell_type": "code",
   "execution_count": 48,
   "id": "05426075",
   "metadata": {},
   "outputs": [],
   "source": [
    "# extract data from the given age group, and find the average of the responses\n",
    "def age_groups(cleaned_data, group):\n",
    "    ''' Function: age_groups\n",
    "        Parameter: a 2d list in the form [x_value, y_value], and a given age group in the form of a list\n",
    "        Return: the average of the y_values in the given age group\n",
    "    '''\n",
    "    age_group = []\n",
    "    \n",
    "    for row in cleaned_data:\n",
    "        if row[0] in group:\n",
    "            age_group.append(row)\n",
    "    \n",
    "    aver_lst = [data[1] for data in age_group]\n",
    "    \n",
    "    aver = sum(aver_lst) / len(aver_lst)\n",
    "    \n",
    "    return aver\n",
    "    "
   ]
  },
  {
   "cell_type": "markdown",
   "id": "715506e8",
   "metadata": {},
   "source": [
    "**Correlation Coefficient**\n",
    "\n",
    "Pearson's correlation coefficient, or \"r\" value, was calculated in the plot function below. It conveys the strength of the relationship between the two variables (age vs one of the y_variables), ranging from -1 to 1. When the correlation coefficient is close to 1, then the relationship is positively correlated. When the correlation coefficient is close to -1, the relationship is negatively correlated. When the correlation coefficient is close to 0, then it indicates that there is little to no linear relationship."
   ]
  },
  {
   "cell_type": "code",
   "execution_count": 49,
   "id": "989396b4",
   "metadata": {},
   "outputs": [],
   "source": [
    "# compute the correlation coefficient of each dataset\n",
    "def find_correlation(nsf_data, stages_data):\n",
    "    ''' Function: find_correlation\n",
    "        Parameter: two lists of averages from each dataset\n",
    "        Return: nothing, just print the correlation coefficient\n",
    "    '''\n",
    "    \n",
    "    from scipy import stats\n",
    "    a_correlation = stats.pearsonr(nsf_data, stages_data)\n",
    "    print(\"correlation coefficient:\", round(a_correlation[1], 5))"
   ]
  },
  {
   "cell_type": "markdown",
   "id": "73797ca4",
   "metadata": {},
   "source": [
    "**Visualization Function**\n",
    "\n",
    "The function below plots a multiple bar chart to compare the averages of each age group across the two datasets. The multiple bar chart code was provided from an external source [6]. "
   ]
  },
  {
   "cell_type": "code",
   "execution_count": 50,
   "id": "f2f0f9a4",
   "metadata": {},
   "outputs": [],
   "source": [
    "# plot multiple bar chart\n",
    "def bar_graph(nsf_data, stages_data, y_label, title):\n",
    "    ''' Function: bar_graph\n",
    "        Parameter: two lists of averages of each age group per dataset, the y-axis label (str), and title (str)\n",
    "        Return: just plot\n",
    "    '''\n",
    "    \n",
    "    X = [\"Gen Z\", \"Gen X\", \"Gen Y\", \"Baby Boomers\"]\n",
    "    X_axis = np.arange(len(X))\n",
    "    \n",
    "    plt.bar(X_axis - 0.2, nsf_data, 0.4, label = 'NSF')\n",
    "    plt.bar(X_axis + 0.2, stages_data, 0.4, label = 'STAGES')\n",
    "    \n",
    "    plt.xticks(X_axis, X)\n",
    "    plt.xlabel(\"Age Groups\")\n",
    "    plt.ylabel(y_label)\n",
    "    plt.title(title)\n",
    "    plt.legend()\n",
    "    plt.show()"
   ]
  },
  {
   "cell_type": "markdown",
   "id": "90a19219",
   "metadata": {},
   "source": [
    "**Computations** \n",
    "\n",
    "Various computations were done to each dataset to organize the data into x and y variables. Given the index (column position) of each y_variable in the dataset, the data was cleaned and organized to a create a nested list of variables (x and y) per dataset.\n",
    "\n",
    "The bar chart data was also created and organized into individual lists of the averages from each age group. The correlation coefficient was computed based on the relationship between the averages of the age groups of each dataset. More specifically, the correlation coefficient compared these two lists of averages between the two datasets to observe a correlation. "
   ]
  },
  {
   "cell_type": "code",
   "execution_count": 51,
   "id": "38b95e40",
   "metadata": {
    "scrolled": false
   },
   "outputs": [],
   "source": [
    "# Computation for NSF (National Sleep Foundation) dataset\n",
    "AGE_INDEX = 2\n",
    "SCORE_INDEX = 84\n",
    "DURATION_INDEX = 34\n",
    "AWAKENING_INDEX = 156\n",
    "\n",
    "poll_data = read_csv(POLL_FILE)\n",
    "\n",
    "first_cleaned_poll = cleaned_poll(poll_data, SCORE_INDEX)\n",
    "first_data = get_simple_data(first_cleaned_poll, AGE_INDEX, SCORE_INDEX)\n",
    "\n",
    "second_cleaned_poll = cleaned_poll(poll_data, DURATION_INDEX)\n",
    "second_data = get_simple_data(first_cleaned_poll, AGE_INDEX, DURATION_INDEX)\n",
    "\n",
    "third_cleaned_poll = cleaned_poll(poll_data, AWAKENING_INDEX)\n",
    "third_data = get_simple_data(third_cleaned_poll, AGE_INDEX, AWAKENING_INDEX)\n",
    "\n",
    "gen_z = list(range(13, 19))\n",
    "gen_y = list(range(19, 30))\n",
    "gen_x = list(range(30, 46))\n",
    "baby_boom = list(range(46, 65))\n",
    "\n",
    "# first graph - epworth scale\n",
    "z = age_groups(first_data, gen_z)\n",
    "y = age_groups(first_data, gen_y)\n",
    "x = age_groups(first_data, gen_x)\n",
    "bb = age_groups(first_data, baby_boom)\n",
    "\n",
    "nsf_ep_av = [z, y, x, bb]\n",
    "\n",
    "# second graph - sleep duration\n",
    "a = age_groups(second_data, gen_z)\n",
    "b = age_groups(second_data, gen_y)\n",
    "c = age_groups(second_data, gen_x)\n",
    "d = age_groups(second_data, baby_boom)\n",
    "\n",
    "nsf_sleep_av = [a, b, c, d]\n",
    "\n",
    "# third graph - sleep awakenings\n",
    "e = age_groups(third_data, gen_z)\n",
    "f = age_groups(third_data, gen_y)\n",
    "g = age_groups(third_data, gen_x)\n",
    "h = age_groups(third_data, baby_boom)\n",
    "\n",
    "nsf_awake_av = [e, f, g, h]"
   ]
  },
  {
   "cell_type": "code",
   "execution_count": 52,
   "id": "d22d9ede",
   "metadata": {
    "scrolled": false
   },
   "outputs": [],
   "source": [
    "# Computation for STAGES dataset\n",
    "AGE_INDEX = 8\n",
    "SCORE_INDEX = 295\n",
    "DURATION_INDEX = 184\n",
    "AWAKENING_INDEX = 188\n",
    "\n",
    "all_data = read_csv(STAGES_FILE)\n",
    "    \n",
    "cleaned_first_data = cleaned(all_data, SCORE_INDEX)\n",
    "first_data = get_simple_data(cleaned_first_data, AGE_INDEX, SCORE_INDEX)\n",
    "\n",
    "cleaned_second_data = cleaned(all_data, DURATION_INDEX)\n",
    "second_data = get_simple_data(cleaned_second_data, AGE_INDEX, DURATION_INDEX)\n",
    "\n",
    "cleaned_third_data = cleaned(all_data, AWAKENING_INDEX)\n",
    "third_data = get_simple_data(cleaned_third_data, AGE_INDEX, AWAKENING_INDEX)\n",
    "\n",
    "gen_z = list(range(13, 19))\n",
    "gen_y = list(range(19, 30))\n",
    "gen_x = list(range(30, 46))\n",
    "baby_boom = list(range(46, 65))\n",
    "\n",
    "# first graph - epworth scale\n",
    "z = age_groups(first_data, gen_z)\n",
    "y = age_groups(first_data, gen_y)\n",
    "x = age_groups(first_data, gen_x)\n",
    "bb = age_groups(first_data, baby_boom)\n",
    "\n",
    "stages_ep_av = [z, y, x, bb]\n",
    "\n",
    "# second graph - sleep duration\n",
    "a = age_groups(second_data, gen_z)\n",
    "b = age_groups(second_data, gen_y)\n",
    "c = age_groups(second_data, gen_x)\n",
    "d = age_groups(second_data, baby_boom)\n",
    "stages_sleep_av = [a, b, c, d]\n",
    "\n",
    "# third graph - sleep awakenings\n",
    "e = age_groups(third_data, gen_z)\n",
    "f = age_groups(third_data, gen_y)\n",
    "g = age_groups(third_data, gen_x)\n",
    "h = age_groups(third_data, baby_boom)\n",
    "\n",
    "stages_awake_av = [e, f, g, h]"
   ]
  },
  {
   "cell_type": "markdown",
   "id": "d6775fba",
   "metadata": {},
   "source": [
    "**Visualizations**\n",
    "\n",
    "The average responses for each age group were plotted on the multiple bar chart. The colors coordinate to the specific dataset. The correlation coefficient was calculated by comparing the average responses between the two datasets. \n",
    "\n",
    "It can be seen that the relationship between age and the Epworth Sleepiness Scale between the two datasets is 0.02887 (rounded). There is a weak positive correlation between the two datasets, indicating that they are likely unrelated.\n",
    "\n",
    "It can be seen that the relationship between age and sleep duration between the two datasets is 0.02004 (rounded). There is a weak positive correlation between the two datasets, indicating that they are likely unrelated. \n",
    "\n",
    "It can be seen that the relationship between age and the sleep awakenings between the two datasets is 0.5305 (rounded). There is an moderately positive correlation between the two datasets, indicating that they likely could be related. "
   ]
  },
  {
   "cell_type": "code",
   "execution_count": 53,
   "id": "a11ea94a",
   "metadata": {},
   "outputs": [
    {
     "data": {
      "image/png": "[encoded data removed]",
      "text/plain": [
       "<Figure size 432x288 with 1 Axes>"
      ]
     },
     "metadata": {
      "needs_background": "light"
     },
     "output_type": "display_data"
    },
    {
     "name": "stdout",
     "output_type": "stream",
     "text": [
      "correlation coefficient: 0.02887\n"
     ]
    },
    {
     "data": {
      "image/png": "[encoded data removed]",
      "text/plain": [
       "<Figure size 432x288 with 1 Axes>"
      ]
     },
     "metadata": {
      "needs_background": "light"
     },
     "output_type": "display_data"
    },
    {
     "name": "stdout",
     "output_type": "stream",
     "text": [
      "correlation coefficient: 0.02004\n"
     ]
    },
    {
     "data": {
      "image/png": "[encoded data removed]",
      "text/plain": [
       "<Figure size 432x288 with 1 Axes>"
      ]
     },
     "metadata": {
      "needs_background": "light"
     },
     "output_type": "display_data"
    },
    {
     "name": "stdout",
     "output_type": "stream",
     "text": [
      "correlation coefficient: 0.5305\n"
     ]
    }
   ],
   "source": [
    "# categorize and graph by age groups, then print the correlation coefficient for each graph\n",
    "\n",
    "bar_graph(nsf_ep_av, stages_ep_av, \"Average Epworth Scale Score\", \"Age vs Epworth Sleepiness Scale\")\n",
    "find_correlation(nsf_ep_av, stages_ep_av)\n",
    "\n",
    "bar_graph(nsf_sleep_av, stages_sleep_av, \"Average Sleep Duration (hours)\", \n",
    "          \"Age vs Total Average Sleep Duration on week nights\")\n",
    "find_correlation(nsf_sleep_av, stages_sleep_av)\n",
    "\n",
    "bar_graph(nsf_awake_av, stages_awake_av, \"Average Sleep Disruption Duration (minutes)\", \n",
    "          \"Age vs Total Average Duration of Awakenings on week nights\")\n",
    "find_correlation(nsf_awake_av, stages_awake_av)"
   ]
  },
  {
   "cell_type": "markdown",
   "id": "e0e988a3",
   "metadata": {},
   "source": [
    "**Conclusions**\n",
    "\n",
    "Based on the bar graph visualizations, the results indicate a clear pattern across the different age groups. For the Epworth Sleepiness bar graph, it is evident that for both datasets, as age increased, the Epworth Scale score decreased. Across time, the Epworth Scale score increased significantly for each generation. This supports the prediction that younger generations would have lower sleep quality, as evident in the higher Epworth scale scores. And over time, it would make sense that more people are likely dozing off in regular activities if environmental and external factors, such as technology, is more commonly disrupting sleep. \n",
    "\n",
    "For the second bar graph, it can be observed that there is a pattern across the bars. As age increased, the total average sleep duration decreased. Between the two datasets, sleep duration slightly decreased for each age group. This supports the prediction that with time, there are more ways that our sleep cycles are disrupted and therefore, result in getting shorter durations of sleep. However, it was unexpected that the older generations reported getting less sleep than the younger generations. This could convey that sleep may not be as necessary for older people than it is for younger people who are still growing phyiscally and psychologically. Or, it could indicate that external factors are impacting sleep quality more for older generations than younger generations.\n",
    "\n",
    "For the third bar graph, the results illustrate an interesting pattern. Across generations, the average duration of sleep awakenings are similar. However, between the two datasets, more people in the 2011 NSF poll reported to have longer sleep awakenings. This could potentially indicate that the duration of sleep awakenings may not have changed between age groups and therefore, external factors may not depend on age. To address the increased sleep disruptions for the 2011 dataset, limited data values from the STAGES dataset may have affected the results, since with only a few responses to plot from, the data may not be representative of the generation it depicts. Another possibility is that certain lifestyles in the past may have disrupted sleep patterns more frequently than today, resulting in longer sleep awakenings.\n",
    "\n",
    "The correlation coefficients roughly reflect the observations made between the bar plots. Despite weak positive correlations between the datasets for the first two graphs, it was still clear that there is a trend across age and time. For the third bar graph, the correlation was moderately positive, which indicates that the relationship between age and sleep awakenings across the two datasets is moderately strong. This means there was a noticable change or pattern in sleep awakenings over time for each of the age groups."
   ]
  },
  {
   "cell_type": "markdown",
   "id": "c30b96d5",
   "metadata": {},
   "source": [
    "**Limitations**\n",
    "\n",
    "It is important to note the limitations that the provided datasets have. The drastic difference in the number of respondants between the two datasets could reflect discrepancies because the weight of the number of respondants could affect the correlation. Having more data points indicate a more accurate correlation, while fewer data points could be prone to skewed results due to response bias (since people who likely do respond may have stronger views and thoughts on the topic) creating unrepresentative responses and therefore, lead to a bias correlation. \n",
    "\n",
    "In addition, the two datasets are obtained from different groups of people and at different years, which may further lead to inaccurate results as the demographics of the samples were not controlled.\n",
    "\n",
    "The method of surveying the respondants may also bring in bias since the National Sleep Foundation conducted a poll through telecommunication, where nonresponse bias and wording bias can affect the responses. The STAGES utilized a digital questionnaire, where the same biases can influence the responses."
   ]
  },
  {
   "cell_type": "markdown",
   "id": "84595cb2",
   "metadata": {},
   "source": [
    "**Final Remarks**\n",
    "\n",
    "Overall, the results of this project demonstrate both predicted and unpredicted findings. Sleepiness patterns and sleep duration did vary depending on age groups as well as time period. However, total awakenings was not as clearly affected by age, indicating that perhaps a variety of other factors--such as the rigor and exhaustion of everyday life or utilization of technology, can affect sleep patterns and may simply be applicable to everyone."
   ]
  },
  {
   "cell_type": "markdown",
   "id": "7d1f8dd3",
   "metadata": {},
   "source": [
    "**References**\n",
    "\n",
    "1. “Blue Light Has a Dark Side.” Harvard Health, 7 July 2020, https://www.health.harvard.edu/staying-healthy/blue-light-has-a-dark-side#:~:text=Harvard%20researchers%20and%20their%20colleagues,as%20much%20(3%20hours%20vs. \n",
    "\n",
    "2. Ramsey, David. “Will Blue Light from Electronic Devices Increase My Risk of Macular Degeneration and Blindness?” Harvard Health, 1 May 2019, https://www.health.harvard.edu/blog/will-blue-light-from-electronic-devices-increase-my-risk-of-macular-degeneration-and-blindness-2019040816365. \n",
    "\n",
    "3. Fossum IN;Nordnes LT;Storemark SS;Bjorvatn B;Pallesen S; “The Association between Use of Electronic Media in Bed before Going to Sleep and Insomnia Symptoms, Daytime Sleepiness, Morningness, and Chronotype.” Behavioral Sleep Medicine, U.S. National Library of Medicine, https://pubmed.ncbi.nlm.nih.gov/24156294/. \n",
    "\n",
    "4. Fuller, Caitlyn, et al. “Bedtime Use of Technology and Associated Sleep Problems in Children.” Global Pediatric Health, SAGE Publications, 27 Oct. 2017, https://www.ncbi.nlm.nih.gov/pmc/articles/PMC5669315/. \n",
    "\n",
    "5. Tapia, Ignacio. “Sleep and Technology: Incompatible for Adolescents.” Children's Hospital of Philadelphia, The Children's Hospital of Philadelphia, 23 Aug. 2016, https://www.chop.edu/news/sleep-and-technology-incompatible-adolescents#:~:text=A%20survey%20of%20more%20than,sleepiness%2C%20and%20worse%20academic%20performance.\n",
    "6. “Plotting Multiple Bar Charts Using Matplotlib in Python.” GeeksforGeeks, 25 Feb. 2021, https://www.geeksforgeeks.org/plotting-multiple-bar-charts-using-matplotlib-in-python/. "
   ]
  }
 ],
 "metadata": {
  "kernelspec": {
   "display_name": "Python 3 (ipykernel)",
   "language": "python",
   "name": "python3"
  },
  "language_info": {
   "codemirror_mode": {
    "name": "ipython",
    "version": 3
   },
   "file_extension": ".py",
   "mimetype": "text/x-python",
   "name": "python",
   "nbconvert_exporter": "python",
   "pygments_lexer": "ipython3",
   "version": "3.9.7"
  }
 },
 "nbformat": 4,
 "nbformat_minor": 5
}
